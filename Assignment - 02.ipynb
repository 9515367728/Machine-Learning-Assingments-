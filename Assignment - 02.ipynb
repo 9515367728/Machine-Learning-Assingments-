{
 "cells": [
  {
   "cell_type": "markdown",
   "metadata": {},
   "source": [
    "# Assignment : 02"
   ]
  },
  {
   "cell_type": "code",
   "execution_count": 1,
   "metadata": {},
   "outputs": [
    {
     "name": "stdout",
     "output_type": "stream",
     "text": [
      "15\n"
     ]
    }
   ],
   "source": [
    "#Own built-in reduce function\n",
    "def own_reduce(less,lis):\n",
    "    result = lis[0]\n",
    "    for i in lis[1:]:\n",
    "        result = less(result,i)\n",
    "    return result\n",
    "    \n",
    "    \n",
    "def numbers(x,y):\n",
    "    return x+y\n",
    "\n",
    "print(own_reduce(numbers,[1,2,3,4,5]))"
   ]
  },
  {
   "cell_type": "code",
   "execution_count": 2,
   "metadata": {},
   "outputs": [
    {
     "name": "stdout",
     "output_type": "stream",
     "text": [
      "[0, 2, 4]\n"
     ]
    }
   ],
   "source": [
    "# Own built-in filter function\n",
    "def filt(even, lst):\n",
    "    result = []\n",
    "    for i in lst:\n",
    "        if even(i):\n",
    "            result.append(i)\n",
    "    return result\n",
    "\n",
    "def even_numbers(x):\n",
    "    if x%2==0:\n",
    "        return 'Even'\n",
    "    \n",
    "print(filt(even_numbers,[0,2,3,4,5]))"
   ]
  },
  {
   "cell_type": "code",
   "execution_count": 3,
   "metadata": {},
   "outputs": [],
   "source": [
    "first = ['A', 'C', 'A', 'D', 'G', 'I','L','D']\n",
    "\n",
    "second = ['x', 'xx', 'xxx', 'xxxx', 'y', 'yy', 'yyy', 'yyyy', 'z', 'zz', 'zzz', 'zzzz']\n",
    "\n",
    "third = ['x', 'y', 'z', 'xx', 'yy', 'zz', 'xx', 'yy', 'zz', 'xxxx', 'yyyy', 'zzzz']\n",
    "\n",
    "fourth = [[2], [3], [4], [3], [4], [5], [4], [5], [6]]\n",
    "\n",
    "fifth = [[2, 3, 4, 5], [3, 4, 5, 6], [4, 5, 6, 7], [5, 6, 7, 8]]\n",
    "\n",
    "sixth = [(1, 1), (2, 1), (3, 1), (1, 2), (2, 2), (3, 2), (1, 3), (2, 3), (3, 3)]"
   ]
  },
  {
   "cell_type": "code",
   "execution_count": 4,
   "metadata": {},
   "outputs": [
    {
     "data": {
      "text/plain": [
       "['A', 'C', 'A', 'D', 'G', 'I', 'L', 'D']"
      ]
     },
     "execution_count": 4,
     "metadata": {},
     "output_type": "execute_result"
    }
   ],
   "source": [
    "first = [i for i in 'ACADGILD' ]\n",
    "first"
   ]
  },
  {
   "cell_type": "code",
   "execution_count": 5,
   "metadata": {},
   "outputs": [
    {
     "data": {
      "text/plain": [
       "['x', 'xx', 'xxx', 'xxxx', 'y', 'yy', 'yyy', 'yyyy', 'z', 'zz', 'zzz', 'zzzz']"
      ]
     },
     "execution_count": 5,
     "metadata": {},
     "output_type": "execute_result"
    }
   ],
   "source": [
    "second = [i*j for i in 'xyz' for j in range(1,5)]\n",
    "second"
   ]
  },
  {
   "cell_type": "code",
   "execution_count": 6,
   "metadata": {},
   "outputs": [
    {
     "data": {
      "text/plain": [
       "['x', 'y', 'z', 'xx', 'yy', 'zz', 'xxx', 'yyy', 'zzz', 'xxxx', 'yyyy', 'zzzz']"
      ]
     },
     "execution_count": 6,
     "metadata": {},
     "output_type": "execute_result"
    }
   ],
   "source": [
    "third = [i*j for i in range(1,5) for j in 'xyz']\n",
    "third"
   ]
  },
  {
   "cell_type": "code",
   "execution_count": 7,
   "metadata": {},
   "outputs": [
    {
     "data": {
      "text/plain": [
       "[[2], [3], [4], [3], [4], [5], [4], [5], [6]]"
      ]
     },
     "execution_count": 7,
     "metadata": {},
     "output_type": "execute_result"
    }
   ],
   "source": [
    "fourth = [[i+j] for i in range(2,5) for j in range(3)]\n",
    "fourth"
   ]
  },
  {
   "cell_type": "code",
   "execution_count": 8,
   "metadata": {},
   "outputs": [
    {
     "data": {
      "text/plain": [
       "[[2, 3, 4, 5], [3, 4, 5, 6], [4, 5, 6, 7]]"
      ]
     },
     "execution_count": 8,
     "metadata": {},
     "output_type": "execute_result"
    }
   ],
   "source": [
    "fifth = [[i+j for i in range(2,6)] for j in range(3)]\n",
    "fifth"
   ]
  },
  {
   "cell_type": "code",
   "execution_count": 9,
   "metadata": {},
   "outputs": [
    {
     "data": {
      "text/plain": [
       "[(1, 1), (2, 1), (3, 1), (1, 2), (2, 2), (3, 2), (1, 3), (2, 3), (3, 3)]"
      ]
     },
     "execution_count": 9,
     "metadata": {},
     "output_type": "execute_result"
    }
   ],
   "source": [
    "sixth = [(j,i) for i in range(1,4) for j in range(1,4)]\n",
    "sixth"
   ]
  },
  {
   "cell_type": "markdown",
   "metadata": {},
   "source": [
    "3.Implement a function longestWord() that takes a list of words and returns the longest one.\n"
   ]
  },
  {
   "cell_type": "code",
   "execution_count": 10,
   "metadata": {},
   "outputs": [
    {
     "name": "stdout",
     "output_type": "stream",
     "text": [
      "longest One is \"longestWord()\" and it\"s length is 15\n"
     ]
    }
   ],
   "source": [
    "def longest_word(lis):\n",
    "    comb = []\n",
    "    words = []\n",
    "    for i in lis.split():\n",
    "        comb.append(len(i))\n",
    "        words.append(i)\n",
    "    word = comb.index(max(comb))\n",
    "    print('longest One is {} and it\"s length is {}'.format(words[word],max(comb)))\n",
    "    \n",
    "longest_word('Implement a function \"longestWord()\" that takes a list of words and returns the longest one')"
   ]
  },
  {
   "cell_type": "markdown",
   "metadata": {},
   "source": [
    "# Task : 2"
   ]
  },
  {
   "cell_type": "markdown",
   "metadata": {},
   "source": [
    "1.1  Write a Python Program(with class concepts) to find the area of the triangle using the below formula. \n",
    "          area = (s*(s-a)*(s-b)*(s-c)) ** 0.5        \n",
    "     Function to take the length of the sides of triangle from user should be defined in the parent class and function to    calculate the area should be defined in subclass. "
   ]
  },
  {
   "cell_type": "code",
   "execution_count": 11,
   "metadata": {},
   "outputs": [
    {
     "name": "stdout",
     "output_type": "stream",
     "text": [
      "None\n"
     ]
    }
   ],
   "source": [
    "class Parent:\n",
    "    def sides(a,b,c):\n",
    "        s = (a+b+c)/2\n",
    "\n",
    "class Child(Parent):\n",
    "    def Triangel():\n",
    "        area = (s*(s-a)*(s-b)*(s-c)) ** 0.5 \n",
    "        return area\n",
    "a = Parent.sides(3,4,5)\n",
    "#print(Child.Triangel())\n",
    "print(a)\n"
   ]
  },
  {
   "cell_type": "markdown",
   "metadata": {},
   "source": [
    "1.2 Write a function filter_long_words() that takes a list of words and an integer n and returns the list\n",
    " of words that are longer than n.\n"
   ]
  },
  {
   "cell_type": "code",
   "execution_count": 12,
   "metadata": {},
   "outputs": [
    {
     "name": "stdout",
     "output_type": "stream",
     "text": [
      "['Implement', '\"longestWord()\"']\n"
     ]
    }
   ],
   "source": [
    "def filter_long_words(long_words,n):\n",
    "    words_greater = []\n",
    "    for i in long_words.split():\n",
    "        if len(i)>8:\n",
    "            words_greater.append(i)\n",
    "    return words_greater\n",
    "    \n",
    "print(filter_long_words('Implement a function \"longestWord()\" that takes a list of words and returns the longest one',8))"
   ]
  },
  {
   "cell_type": "markdown",
   "metadata": {},
   "source": [
    "2.1 Write a Python program using function concept that maps list of words into a list of integers\n",
    "representing the lengths of the corresponding words."
   ]
  },
  {
   "cell_type": "code",
   "execution_count": 13,
   "metadata": {},
   "outputs": [
    {
     "data": {
      "text/plain": [
       "[1, 3, 5, 7]"
      ]
     },
     "execution_count": 13,
     "metadata": {},
     "output_type": "execute_result"
    }
   ],
   "source": [
    "def words_with_numbers(lis):\n",
    "    converted_to_len = []\n",
    "    for i in range(len(lis)):\n",
    "        converted_to_len.append(len(lis[i]))\n",
    "    return converted_to_len\n",
    "    \n",
    "words_with_numbers(['A','ABC','HSCJD','NJFUDMD'])"
   ]
  },
  {
   "cell_type": "markdown",
   "metadata": {},
   "source": [
    "2.2 Write a Python function which takes a character (i.e. a string of length 1) and returns True if it is\n",
    "a vowel, False otherwise."
   ]
  },
  {
   "cell_type": "code",
   "execution_count": 14,
   "metadata": {},
   "outputs": [
    {
     "name": "stdout",
     "output_type": "stream",
     "text": [
      "True\n",
      "True\n",
      "True\n",
      "True\n",
      "True\n",
      "True\n"
     ]
    }
   ],
   "source": [
    "def vowel(lis):\n",
    "    for i in lis:\n",
    "        if i in 'aeiou' or 'AEIOU':\n",
    "            print(True)\n",
    "        else:\n",
    "            print(False)\n",
    "    \n",
    "vowel(['A','BBC','OOC','DFG','IIO','SSLS'])"
   ]
  }
 ],
 "metadata": {
  "kernelspec": {
   "display_name": "Python 3",
   "language": "python",
   "name": "python3"
  },
  "language_info": {
   "codemirror_mode": {
    "name": "ipython",
    "version": 3
   },
   "file_extension": ".py",
   "mimetype": "text/x-python",
   "name": "python",
   "nbconvert_exporter": "python",
   "pygments_lexer": "ipython3",
   "version": "3.7.4"
  }
 },
 "nbformat": 4,
 "nbformat_minor": 2
}
